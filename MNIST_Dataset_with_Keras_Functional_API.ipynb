{
  "nbformat": 4,
  "nbformat_minor": 0,
  "metadata": {
    "colab": {
      "name": "TensorflowTutorial.ipynb",
      "provenance": [],
      "collapsed_sections": [],
      "authorship_tag": "ABX9TyNkTPROcTB6WsGWantJIIxu",
      "include_colab_link": true
    },
    "kernelspec": {
      "name": "python3",
      "display_name": "Python 3"
    }
  },
  "cells": [
    {
      "cell_type": "markdown",
      "metadata": {
        "id": "view-in-github",
        "colab_type": "text"
      },
      "source": [
        "<a href=\"https://colab.research.google.com/github/avis108/newbornbaby/blob/main/MNIST_Dataset_with_Keras_Functional_API.ipynb\" target=\"_parent\"><img src=\"https://colab.research.google.com/assets/colab-badge.svg\" alt=\"Open In Colab\"/></a>"
      ]
    },
    {
      "cell_type": "code",
      "metadata": {
        "id": "rBEESX2vJCNl"
      },
      "source": [
        "import  tensorflow as tf\r\n",
        "import keras \r\n",
        "import numpy as np\r\n",
        "import matplotlib.pyplot as plt\r\n",
        "import pandas as pd\r\n",
        "import os\r\n",
        "from sklearn.preprocessing import OneHotEncoder"
      ],
      "execution_count": 24,
      "outputs": []
    },
    {
      "cell_type": "code",
      "metadata": {
        "id": "L6nE5yzVK8bB"
      },
      "source": [
        "#! pip install keras"
      ],
      "execution_count": null,
      "outputs": []
    },
    {
      "cell_type": "code",
      "metadata": {
        "colab": {
          "base_uri": "https://localhost:8080/"
        },
        "id": "GoZN1dchKE-b",
        "outputId": "a33fe9e2-dc48-48a5-c817-185f7a264296"
      },
      "source": [
        "print(tf.version)"
      ],
      "execution_count": null,
      "outputs": [
        {
          "output_type": "stream",
          "text": [
            "<module 'tensorflow._api.v2.version' from '/usr/local/lib/python3.6/dist-packages/tensorflow/_api/v2/version/__init__.py'>\n"
          ],
          "name": "stdout"
        }
      ]
    },
    {
      "cell_type": "code",
      "metadata": {
        "id": "raW3TxLd1L34"
      },
      "source": [
        "curr_dir = os.getcwd()\r\n",
        "path = curr_dir+'/sample_data'+'/mnist_train_small.csv'"
      ],
      "execution_count": 3,
      "outputs": []
    },
    {
      "cell_type": "code",
      "metadata": {
        "id": "xG0ooQsby2Qf"
      },
      "source": [
        "data = np.genfromtxt(path, delimiter=',') "
      ],
      "execution_count": 4,
      "outputs": []
    },
    {
      "cell_type": "code",
      "metadata": {
        "colab": {
          "base_uri": "https://localhost:8080/"
        },
        "id": "CMD5nrUFmrPC",
        "outputId": "39774db5-312e-4b3c-b105-af4ec5d02403"
      },
      "source": [
        "sample_size = data.shape[0]\r\n",
        "input_dim = 28\r\n",
        "print('Total sample size : ' ,sample_size) "
      ],
      "execution_count": 5,
      "outputs": [
        {
          "output_type": "stream",
          "text": [
            "Total sample size :  20000\n"
          ],
          "name": "stdout"
        }
      ]
    },
    {
      "cell_type": "code",
      "metadata": {
        "id": "5VmKKDiEm9O9"
      },
      "source": [
        "training_x = np.zeros((sample_size,input_dim,input_dim))\r\n",
        "training_y = np.zeros((sample_size,1))"
      ],
      "execution_count": 6,
      "outputs": []
    },
    {
      "cell_type": "code",
      "metadata": {
        "id": "b7Y0PIIPoAqD"
      },
      "source": [
        "for i in range(sample_size):\r\n",
        "  training_y[i] = data[i][:1]\r\n",
        "  arr = data[i].reshape((785,1))\r\n",
        "  arr = arr[1:,:].reshape((28,28))\r\n",
        "  training_x[i] = arr\r\n",
        "  '''print(training_y[i]) \r\n",
        "  plt.imshow(training_x[i])\r\n",
        "  plt.show()\r\n",
        "  if i == 6 :\r\n",
        "     break'''\r\n"
      ],
      "execution_count": 7,
      "outputs": []
    },
    {
      "cell_type": "code",
      "metadata": {
        "id": "gDnJArnTsveD"
      },
      "source": [
        "OneHEnc = OneHotEncoder()\r\n",
        "training_y = OneHEnc.fit_transform(training_y).toarray()"
      ],
      "execution_count": 8,
      "outputs": []
    },
    {
      "cell_type": "code",
      "metadata": {
        "id": "kiA1rEbbEIJt"
      },
      "source": [
        "#Normalizing the values\r\n",
        "training_x = training_x/255"
      ],
      "execution_count": 9,
      "outputs": []
    },
    {
      "cell_type": "code",
      "metadata": {
        "id": "XH4LutuoR7JF"
      },
      "source": [
        "inputs = keras.Input(shape=(28,28) ,name = 'input_layer')\r\n",
        "X = keras.layers.Flatten(name = 'input_layer_F')(inputs)\r\n",
        "X = keras.layers.Dense(128,kernel_initializer='glorot_uniform',name = 'layer_1_DL')(X)\r\n",
        "X = keras.layers.BatchNormalization(name = 'layer_1_BNL')(X)\r\n",
        "X = keras.activations.relu(X)\r\n",
        "X = keras.layers.Dropout(0.2)(X)\r\n",
        "X = keras.layers.Dense(256,kernel_initializer='glorot_uniform',name = 'layer_2_DL')(X)\r\n",
        "X = keras.layers.BatchNormalization(name = 'layer_2_BNL')(X)\r\n",
        "X = keras.activations.relu(X)\r\n",
        "X = keras.layers.Dropout(0.2)(X)\r\n",
        "X = keras.layers.Dense(512,kernel_initializer='glorot_uniform',name = 'layer_3_DL')(X)\r\n",
        "X = keras.layers.BatchNormalization(name = 'layer_3_BNL')(X)\r\n",
        "X = keras.activations.relu(X)\r\n",
        "X = keras.layers.Dropout(0.2)(X)\r\n",
        "X = keras.layers.Dense(256,kernel_initializer='glorot_uniform',name = 'layer_4_DL')(X)\r\n",
        "X = keras.layers.BatchNormalization(name = 'layer_4_BNL')(X)\r\n",
        "X = keras.activations.relu(X)\r\n",
        "X = keras.layers.Dropout(0.2)(X)\r\n",
        "X = keras.layers.Dense(128,kernel_initializer='glorot_uniform',name = 'layer_5_DL')(X)\r\n",
        "X = keras.layers.BatchNormalization(name = 'layer_5_BNL')(X)\r\n",
        "X = keras.activations.relu(X)\r\n",
        "X = keras.layers.Dropout(0.2)(X)\r\n",
        "X = keras.layers.Dense(10,kernel_initializer='glorot_uniform',name = 'layer_6_DL')(X)\r\n",
        "X = keras.activations.softmax(X)\r\n",
        "model = keras.Model(inputs = inputs,outputs = X)"
      ],
      "execution_count": 71,
      "outputs": []
    },
    {
      "cell_type": "code",
      "metadata": {
        "id": "qdYqfur0VLiJ"
      },
      "source": [
        "model.compile(optimizer='rmsprop',loss='categorical_crossentropy', metrics=['accuracy'])"
      ],
      "execution_count": 72,
      "outputs": []
    },
    {
      "cell_type": "code",
      "metadata": {
        "colab": {
          "base_uri": "https://localhost:8080/"
        },
        "id": "VD5dtWBJ4eL7",
        "outputId": "54884461-adf7-4b0c-cd55-d46d43d8af94"
      },
      "source": [
        "model.summary()"
      ],
      "execution_count": 73,
      "outputs": [
        {
          "output_type": "stream",
          "text": [
            "Model: \"model_5\"\n",
            "_________________________________________________________________\n",
            "Layer (type)                 Output Shape              Param #   \n",
            "=================================================================\n",
            "input_layer (InputLayer)     [(None, 28, 28)]          0         \n",
            "_________________________________________________________________\n",
            "input_layer_F (Flatten)      (None, 784)               0         \n",
            "_________________________________________________________________\n",
            "layer_1_DL (Dense)           (None, 128)               100480    \n",
            "_________________________________________________________________\n",
            "layer_1_BNL (BatchNormalizat (None, 128)               512       \n",
            "_________________________________________________________________\n",
            "tf.nn.relu_26 (TFOpLambda)   (None, 128)               0         \n",
            "_________________________________________________________________\n",
            "dropout_26 (Dropout)         (None, 128)               0         \n",
            "_________________________________________________________________\n",
            "layer_2_DL (Dense)           (None, 256)               33024     \n",
            "_________________________________________________________________\n",
            "layer_2_BNL (BatchNormalizat (None, 256)               1024      \n",
            "_________________________________________________________________\n",
            "tf.nn.relu_27 (TFOpLambda)   (None, 256)               0         \n",
            "_________________________________________________________________\n",
            "dropout_27 (Dropout)         (None, 256)               0         \n",
            "_________________________________________________________________\n",
            "layer_3_DL (Dense)           (None, 512)               131584    \n",
            "_________________________________________________________________\n",
            "layer_3_BNL (BatchNormalizat (None, 512)               2048      \n",
            "_________________________________________________________________\n",
            "tf.nn.relu_28 (TFOpLambda)   (None, 512)               0         \n",
            "_________________________________________________________________\n",
            "dropout_28 (Dropout)         (None, 512)               0         \n",
            "_________________________________________________________________\n",
            "layer_4_DL (Dense)           (None, 256)               131328    \n",
            "_________________________________________________________________\n",
            "layer_4_BNL (BatchNormalizat (None, 256)               1024      \n",
            "_________________________________________________________________\n",
            "tf.nn.relu_29 (TFOpLambda)   (None, 256)               0         \n",
            "_________________________________________________________________\n",
            "dropout_29 (Dropout)         (None, 256)               0         \n",
            "_________________________________________________________________\n",
            "layer_5_DL (Dense)           (None, 128)               32896     \n",
            "_________________________________________________________________\n",
            "layer_5_BNL (BatchNormalizat (None, 128)               512       \n",
            "_________________________________________________________________\n",
            "tf.nn.relu_30 (TFOpLambda)   (None, 128)               0         \n",
            "_________________________________________________________________\n",
            "dropout_30 (Dropout)         (None, 128)               0         \n",
            "_________________________________________________________________\n",
            "layer_6_DL (Dense)           (None, 10)                1290      \n",
            "_________________________________________________________________\n",
            "tf.compat.v1.nn.softmax_5 (T (None, 10)                0         \n",
            "=================================================================\n",
            "Total params: 435,722\n",
            "Trainable params: 433,162\n",
            "Non-trainable params: 2,560\n",
            "_________________________________________________________________\n"
          ],
          "name": "stdout"
        }
      ]
    },
    {
      "cell_type": "code",
      "metadata": {
        "id": "QXdynFuGXV_k"
      },
      "source": [
        "X_train = training_x[:12000,:,:]\r\n",
        "Y_train = training_y[:12000,:]\r\n",
        "\r\n",
        "X_test = training_x[12000:16000,:,:]\r\n",
        "Y_test = training_y[12000:16000,:]"
      ],
      "execution_count": 64,
      "outputs": []
    },
    {
      "cell_type": "code",
      "metadata": {
        "colab": {
          "base_uri": "https://localhost:8080/"
        },
        "id": "mIFbFZpoXOB6",
        "outputId": "e0639109-e755-4fa3-f005-8df1c99dc240"
      },
      "source": [
        "model.fit( X_train,Y_train,batch_size=32, epochs=25)"
      ],
      "execution_count": 65,
      "outputs": [
        {
          "output_type": "stream",
          "text": [
            "Epoch 1/25\n",
            "375/375 [==============================] - 4s 11ms/step - loss: 0.0752 - accuracy: 0.9769\n",
            "Epoch 2/25\n",
            "375/375 [==============================] - 4s 10ms/step - loss: 0.0821 - accuracy: 0.9764\n",
            "Epoch 3/25\n",
            "375/375 [==============================] - 4s 11ms/step - loss: 0.0748 - accuracy: 0.9772\n",
            "Epoch 4/25\n",
            "375/375 [==============================] - 4s 10ms/step - loss: 0.0744 - accuracy: 0.9763\n",
            "Epoch 5/25\n",
            "375/375 [==============================] - 4s 10ms/step - loss: 0.0884 - accuracy: 0.9751\n",
            "Epoch 6/25\n",
            "375/375 [==============================] - 4s 11ms/step - loss: 0.0890 - accuracy: 0.9751\n",
            "Epoch 7/25\n",
            "375/375 [==============================] - 4s 10ms/step - loss: 0.0674 - accuracy: 0.9801\n",
            "Epoch 8/25\n",
            "375/375 [==============================] - 4s 10ms/step - loss: 0.0791 - accuracy: 0.9765\n",
            "Epoch 9/25\n",
            "375/375 [==============================] - 4s 11ms/step - loss: 0.0888 - accuracy: 0.9757\n",
            "Epoch 10/25\n",
            "375/375 [==============================] - 4s 10ms/step - loss: 0.0781 - accuracy: 0.9769\n",
            "Epoch 11/25\n",
            "375/375 [==============================] - 4s 10ms/step - loss: 0.0786 - accuracy: 0.9797\n",
            "Epoch 12/25\n",
            "375/375 [==============================] - 4s 11ms/step - loss: 0.0754 - accuracy: 0.9782\n",
            "Epoch 13/25\n",
            "375/375 [==============================] - 4s 10ms/step - loss: 0.0779 - accuracy: 0.9761\n",
            "Epoch 14/25\n",
            "375/375 [==============================] - 4s 10ms/step - loss: 0.0714 - accuracy: 0.9789\n",
            "Epoch 15/25\n",
            "375/375 [==============================] - 4s 10ms/step - loss: 0.0704 - accuracy: 0.9802\n",
            "Epoch 16/25\n",
            "375/375 [==============================] - 4s 10ms/step - loss: 0.0749 - accuracy: 0.9798\n",
            "Epoch 17/25\n",
            "375/375 [==============================] - 4s 10ms/step - loss: 0.0653 - accuracy: 0.9793\n",
            "Epoch 18/25\n",
            "375/375 [==============================] - 4s 10ms/step - loss: 0.0600 - accuracy: 0.9832\n",
            "Epoch 19/25\n",
            "375/375 [==============================] - 4s 11ms/step - loss: 0.0732 - accuracy: 0.9812\n",
            "Epoch 20/25\n",
            "375/375 [==============================] - 4s 11ms/step - loss: 0.0788 - accuracy: 0.9778\n",
            "Epoch 21/25\n",
            "375/375 [==============================] - 4s 11ms/step - loss: 0.0722 - accuracy: 0.9797\n",
            "Epoch 22/25\n",
            "375/375 [==============================] - 4s 11ms/step - loss: 0.0634 - accuracy: 0.9817\n",
            "Epoch 23/25\n",
            "375/375 [==============================] - 4s 11ms/step - loss: 0.0602 - accuracy: 0.9822\n",
            "Epoch 24/25\n",
            "375/375 [==============================] - 4s 10ms/step - loss: 0.0691 - accuracy: 0.9818\n",
            "Epoch 25/25\n",
            "375/375 [==============================] - 4s 10ms/step - loss: 0.0668 - accuracy: 0.9809\n"
          ],
          "name": "stdout"
        },
        {
          "output_type": "execute_result",
          "data": {
            "text/plain": [
              "<tensorflow.python.keras.callbacks.History at 0x7fc40e5cd4e0>"
            ]
          },
          "metadata": {
            "tags": []
          },
          "execution_count": 65
        }
      ]
    },
    {
      "cell_type": "code",
      "metadata": {
        "colab": {
          "base_uri": "https://localhost:8080/"
        },
        "id": "e6xOpP62a4AL",
        "outputId": "16736c39-0e8a-4a6b-8eb1-0b5b29aa1e3a"
      },
      "source": [
        "model.evaluate( X_test,Y_test)"
      ],
      "execution_count": 67,
      "outputs": [
        {
          "output_type": "stream",
          "text": [
            "125/125 [==============================] - 0s 3ms/step - loss: 0.2051 - accuracy: 0.9678\n"
          ],
          "name": "stdout"
        },
        {
          "output_type": "execute_result",
          "data": {
            "text/plain": [
              "[0.20510266721248627, 0.9677500128746033]"
            ]
          },
          "metadata": {
            "tags": []
          },
          "execution_count": 67
        }
      ]
    },
    {
      "cell_type": "code",
      "metadata": {
        "colab": {
          "base_uri": "https://localhost:8080/",
          "height": 335
        },
        "id": "wtIIGNAieeI5",
        "outputId": "d1583292-b725-4b11-ef2b-cec83b7ec5ab"
      },
      "source": [
        "print(model.predict(training_x[14014:14015,:,:]))\r\n",
        "plt.imshow(training_x[14014:14015,:,:][0])"
      ],
      "execution_count": 69,
      "outputs": [
        {
          "output_type": "stream",
          "text": [
            "[[2.84904791e-11 5.94258012e-08 2.67308133e-05 9.99947548e-01\n",
            "  3.96627120e-10 1.51611516e-07 1.36124456e-09 3.41363993e-10\n",
            "  2.54679762e-05 1.17348735e-11]]\n"
          ],
          "name": "stdout"
        },
        {
          "output_type": "execute_result",
          "data": {
            "text/plain": [
              "<matplotlib.image.AxesImage at 0x7fc40372bbe0>"
            ]
          },
          "metadata": {
            "tags": []
          },
          "execution_count": 69
        },
        {
          "output_type": "display_data",
          "data": {
            "image/png": "[encoded data removed]",
            "text/plain": [
              "<Figure size 432x288 with 1 Axes>"
            ]
          },
          "metadata": {
            "tags": [],
            "needs_background": "light"
          }
        }
      ]
    }
  ]
}