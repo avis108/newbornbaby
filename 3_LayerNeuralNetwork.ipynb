{
 "cells": [
  {
   "cell_type": "code",
   "execution_count": 53,
   "metadata": {
    "id": "FfqH6-zl4Gf8"
   },
   "outputs": [],
   "source": [
    "import tensorflow as tf\n",
    "tf.compat.v1.disable_eager_execution()\n",
    "from tensorflow.python.framework import ops\n",
    "import numpy as np\n",
    "import matplotlib.pyplot as plt\n",
    "import matplotlib.image as img\n",
    "import os\n",
    "from PIL import Image\n",
    "import random\n",
    "import pickle"
   ]
  },
  {
   "cell_type": "code",
   "execution_count": 2,
   "metadata": {
    "id": "9xvNMQGw4ftm"
   },
   "outputs": [],
   "source": [
    "path = 'sample_data/Road_Signs_Data/bytefile'"
   ]
  },
  {
   "cell_type": "code",
   "execution_count": 3,
   "metadata": {
    "id": "hPoB0u37a-vS"
   },
   "outputs": [],
   "source": [
    "categories = ['LEFT','RIGHT','STOP']\n",
    "#LEFT:1,RIGT:0,STOP:2\n",
    "img_size = 56"
   ]
  },
  {
   "cell_type": "code",
   "execution_count": 4,
   "metadata": {
    "id": "RjtXWitBaPC8"
   },
   "outputs": [],
   "source": [
    "dbfile = open(path, 'rb')\n",
    "data = pickle.load(dbfile)\n",
    "dbfile.close()"
   ]
  },
  {
   "cell_type": "code",
   "execution_count": 44,
   "metadata": {
    "id": "ORS-IFZPajzP"
   },
   "outputs": [],
   "source": [
    "def create_X_y (data):\n",
    "    #takes a list containg training data \n",
    "    #returns X and y matrix\n",
    "    X = []\n",
    "    y = []\n",
    "    for training_sample,lable in data :\n",
    "        X.append(training_sample)\n",
    "        y.append(lable)\n",
    "    \n",
    "    X = np.asarray(X)\n",
    "    y = np.asarray(y)\n",
    "    return X,y\n",
    "X,y = create_X_y(data)"
   ]
  },
  {
   "cell_type": "code",
   "execution_count": 9,
   "metadata": {
    "colab": {
     "base_uri": "https://localhost:8080/",
     "height": 302
    },
    "id": "Icmj2HHovYT1",
    "outputId": "f30fa41d-33fb-45b0-eab4-fde6fd377075"
   },
   "outputs": [
    {
     "name": "stdout",
     "output_type": "stream",
     "text": [
      "2\n"
     ]
    },
    {
     "data": {
      "image/png": "[encoded data removed]",
      "text/plain": [
       "<Figure size 432x288 with 1 Axes>"
      ]
     },
     "metadata": {
      "needs_background": "light",
      "tags": []
     },
     "output_type": "display_data"
    },
    {
     "name": "stdout",
     "output_type": "stream",
     "text": [
      "***************************\n"
     ]
    }
   ],
   "source": [
    "for i in range(0,len(y)):\n",
    "  print(y[i])\n",
    "  plt.imshow(X[i])\n",
    "  plt.show()\n",
    "  print('***************************')\n",
    "  break"
   ]
  },
  {
   "cell_type": "code",
   "execution_count": null,
   "metadata": {
    "id": "0ILEOJ4HwF_A"
   },
   "outputs": [],
   "source": [
    "#one_hot_encoding"
   ]
  },
  {
   "cell_type": "code",
   "execution_count": 45,
   "metadata": {
    "id": "CeFK0x77awmu"
   },
   "outputs": [],
   "source": [
    "X,y = create_X_y(data)\n",
    "X = X.reshape(img_size*img_size,52)\n",
    "X = X/255\n",
    "y = one_hot_encoder_for_labels(y)"
   ]
  },
  {
   "cell_type": "markdown",
   "metadata": {
    "id": "w2tAZTkXcieD"
   },
   "source": [
    "TensorFlow Pactice"
   ]
  },
  {
   "cell_type": "code",
   "execution_count": null,
   "metadata": {
    "id": "XBCQ5aXfctjm"
   },
   "outputs": [],
   "source": [
    "X = tf.constant(np.random.randn(3,1),name ='X')\n",
    "W = tf.constant(np.random.randn(4,3),name = 'W')\n",
    "b = tf.constant(np.random.randn(4,1),name= 'b')\n",
    "Y = tf.add(tf.matmul(W,X),b)"
   ]
  },
  {
   "cell_type": "code",
   "execution_count": null,
   "metadata": {
    "colab": {
     "base_uri": "https://localhost:8080/"
    },
    "id": "9oj69mxhdYiC",
    "outputId": "ecfd5f91-cd89-4bf0-c023-f4c8efca7992"
   },
   "outputs": [
    {
     "name": "stdout",
     "output_type": "stream",
     "text": [
      "[0.7310586 0.8807971]\n"
     ]
    }
   ],
   "source": [
    "def sigmoid(z):\n",
    "  x = tf.compat.v1.placeholder(tf.float32,name='X')\n",
    "  sigmoid = tf.math.sigmoid(x)\n",
    "  with tf.compat.v1.Session() as sess:\n",
    "        result = sess.run(sigmoid,feed_dict = {x:z})\n",
    "  return result\n",
    "print(sigmoid([1,2]))"
   ]
  },
  {
   "cell_type": "code",
   "execution_count": null,
   "metadata": {
    "id": "D1Ty9i7Df-Ne"
   },
   "outputs": [],
   "source": [
    "def costfunc(logits, labels):\n",
    "   z = tf.compat.v1.placeholder(tf.float32,name='z')\n",
    "   y = tf.compat.v1.placeholder(tf.float32,name='y')\n",
    "   cost = tf.nn.sigmoid_cross_entropy_with_logits(logits = z,labels =y)\n",
    "   with tf.compat.v1.Session() as sess:\n",
    "     cost = sess.run(cost,feed_dict ={z:logits,y:labels})\n",
    "   return cost"
   ]
  },
  {
   "cell_type": "code",
   "execution_count": null,
   "metadata": {
    "id": "lBAleCpEgQ27"
   },
   "outputs": [],
   "source": [
    "logits = np.array([0.2,0.4,0.7,0.9])\n",
    "labels = np.array([0,0,1,1])\n",
    "cost_temp = costfunc(logits,labels)"
   ]
  },
  {
   "cell_type": "code",
   "execution_count": null,
   "metadata": {
    "id": "CXUUiW3OiCCr"
   },
   "outputs": [],
   "source": [
    "def ones(shape):\n",
    "  ones = tf.ones(shape)\n",
    "  with tf.compat.v1.Session() as sess:\n",
    "    ones = sess.run(ones)\n",
    "  return ones"
   ]
  },
  {
   "cell_type": "code",
   "execution_count": null,
   "metadata": {
    "colab": {
     "base_uri": "https://localhost:8080/"
    },
    "id": "qaR4UclviTpI",
    "outputId": "38b275b2-8f7a-4c72-a4e2-192c527ea4ac"
   },
   "outputs": [
    {
     "data": {
      "text/plain": [
       "array([1., 1., 1.], dtype=float32)"
      ]
     },
     "execution_count": 62,
     "metadata": {
      "tags": []
     },
     "output_type": "execute_result"
    }
   ],
   "source": [
    "ones([3])"
   ]
  },
  {
   "cell_type": "code",
   "execution_count": 37,
   "metadata": {
    "id": "UT_6Mis7a0Un"
   },
   "outputs": [],
   "source": [
    "def one_hot_encoder_for_labels (lable_array):\n",
    "    #takes the raw label array \n",
    "    #return the one hot encoded\n",
    "    #representation array\n",
    "    unique_lables = np.unique(lable_array)\n",
    "    unique_lables_count = len(unique_lables)\n",
    "    sample_size = len(lable_array)\n",
    "    y = []\n",
    "    \n",
    "    for lable in lable_array :\n",
    "        temp_vector = np.zeros((unique_lables_count,1))\n",
    "        index = np.where(unique_lables == lable )\n",
    "        temp_vector[index] = 1\n",
    "        y.append(temp_vector)\n",
    "    y = np.asarray(y)\n",
    "    y = y.T.reshape(unique_lables_count,sample_size)\n",
    "    return y"
   ]
  },
  {
   "cell_type": "code",
   "execution_count": 18,
   "metadata": {
    "id": "Aavj7E5ojv0V"
   },
   "outputs": [],
   "source": [
    "def create_placeholders(n_x, n_y):\n",
    "  X = tf.compat.v1.placeholder(tf.float32,[n_x,None],name='X' )\n",
    "  Y = tf.compat.v1.placeholder(tf.float32,[n_y,None],name='Y' )\n",
    "  return X,Y"
   ]
  },
  {
   "cell_type": "code",
   "execution_count": 48,
   "metadata": {
    "id": "oS8DdzM4j4S9"
   },
   "outputs": [],
   "source": [
    "def initialize_parameters():\n",
    "  W1 = tf.compat.v1.get_variable(\"W1\", [25,3136], initializer = tf.keras.initializers.GlorotUniform(seed = 1))\n",
    "  b1 = tf.compat.v1.get_variable(\"b1\", [25,1], initializer = tf.zeros_initializer())\n",
    "  W2 = tf.compat.v1.get_variable(\"W2\", [12, 25], initializer = tf.keras.initializers.GlorotUniform(seed = 1))\n",
    "  b2 = tf.compat.v1.get_variable(\"b2\", [12,1], initializer = tf.zeros_initializer())\n",
    "  W3 = tf.compat.v1.get_variable(\"W3\", [3, 12], initializer = tf.keras.initializers.GlorotUniform(seed = 1))\n",
    "  b3 = tf.compat.v1.get_variable(\"b3\", [3,1], initializer = tf.zeros_initializer())\n",
    "  parameters = {\"W1\": W1,\n",
    "                  \"b1\": b1,\n",
    "                  \"W2\": W2,\n",
    "                  \"b2\": b2,\n",
    "                  \"W3\": W3,\n",
    "                  \"b3\": b3}\n",
    "    \n",
    "  return parameters\n"
   ]
  },
  {
   "cell_type": "code",
   "execution_count": 50,
   "metadata": {
    "colab": {
     "base_uri": "https://localhost:8080/"
    },
    "id": "YSQ_KZsTkvYE",
    "outputId": "56bb0d5c-a8e3-4310-eb82-7fe91fece9f4"
   },
   "outputs": [
    {
     "name": "stdout",
     "output_type": "stream",
     "text": [
      "W1 = <tf.Variable 'W1:0' shape=(25, 3136) dtype=float32>\n",
      "b1 = <tf.Variable 'b1:0' shape=(25, 1) dtype=float32>\n",
      "W2 = <tf.Variable 'W2:0' shape=(12, 25) dtype=float32>\n",
      "b2 = <tf.Variable 'b2:0' shape=(12, 1) dtype=float32>\n",
      "W3 = <tf.Variable 'W3:0' shape=(3, 12) dtype=float32>\n",
      "b3 = <tf.Variable 'b3:0' shape=(3, 1) dtype=float32>\n"
     ]
    }
   ],
   "source": [
    "tf.compat.v1.reset_default_graph()\n",
    "with tf.compat.v1.Session() as sess:\n",
    "    parameters = initialize_parameters()\n",
    "    print(\"W1 = \" + str(parameters[\"W1\"]))\n",
    "    print(\"b1 = \" + str(parameters[\"b1\"]))\n",
    "    print(\"W2 = \" + str(parameters[\"W2\"]))\n",
    "    print(\"b2 = \" + str(parameters[\"b2\"]))\n",
    "    print(\"W3 = \" + str(parameters[\"W3\"]))\n",
    "    print(\"b3 = \" + str(parameters[\"b3\"]))"
   ]
  },
  {
   "cell_type": "code",
   "execution_count": 14,
   "metadata": {
    "id": "96LeL9HIypMT"
   },
   "outputs": [],
   "source": [
    "def forward_propagation(X, parameters):\n",
    "  W1 = parameters['W1']\n",
    "  b1 = parameters['b1']\n",
    "  W2 = parameters['W2']\n",
    "  b2 = parameters['b2']\n",
    "  W3 = parameters['W3']\n",
    "  b3 = parameters['b3']\n",
    "\n",
    "  Z1 = tf.add(tf.matmul(W1,X),b1)                                              # Z1 = np.dot(W1, X) + b1\n",
    "  A1 = tf.nn.relu(Z1)                                              # A1 = relu(Z1)\n",
    "  Z2 = tf.add(tf.matmul(W2,A1),b2)                                              # Z2 = np.dot(W2, A1) + b2\n",
    "  A2 = tf.nn.relu(Z2)                                              # A2 = relu(Z2)\n",
    "  Z3 = tf.add(tf.matmul(W3,A2),b3)\n",
    "\n",
    "  return Z3"
   ]
  },
  {
   "cell_type": "code",
   "execution_count": 21,
   "metadata": {
    "colab": {
     "base_uri": "https://localhost:8080/"
    },
    "id": "c5KCK0QbzGPA",
    "outputId": "9bff6414-83df-4f00-cc3b-f4e11fbbe3e8"
   },
   "outputs": [
    {
     "name": "stdout",
     "output_type": "stream",
     "text": [
      "Z3 = Tensor(\"Add_2:0\", shape=(6, None), dtype=float32)\n"
     ]
    }
   ],
   "source": [
    "tf.compat.v1.reset_default_graph()\n",
    "with tf.compat.v1.Session() as sess:\n",
    "    X, Y = create_placeholders(12288, 6)\n",
    "    parameters = initialize_parameters()\n",
    "    Z3 = forward_propagation(X, parameters)\n",
    "    print(\"Z3 = \" + str(Z3))"
   ]
  },
  {
   "cell_type": "code",
   "execution_count": 23,
   "metadata": {
    "id": "ijKBE1RYzqmp"
   },
   "outputs": [],
   "source": [
    "def compute_cost(Z3, Y):\n",
    "  logits = tf.transpose(Z3)\n",
    "  labels = tf.transpose(Y)\n",
    "  cost = tf.reduce_mean(tf.nn.softmax_cross_entropy_with_logits(logits = logits, labels = labels))\n",
    "  return cost"
   ]
  },
  {
   "cell_type": "code",
   "execution_count": 24,
   "metadata": {
    "colab": {
     "base_uri": "https://localhost:8080/"
    },
    "id": "Dy5HdQpHz6xo",
    "outputId": "95983947-8ef5-4333-a62c-03a9bf6a591a"
   },
   "outputs": [
    {
     "name": "stdout",
     "output_type": "stream",
     "text": [
      "cost = Tensor(\"Mean:0\", shape=(), dtype=float32)\n"
     ]
    }
   ],
   "source": [
    "tf.compat.v1.reset_default_graph()\n",
    "\n",
    "with tf.compat.v1.Session() as sess:\n",
    "    X, Y = create_placeholders(12288, 6)\n",
    "    parameters = initialize_parameters()\n",
    "    Z3 = forward_propagation(X, parameters)\n",
    "    cost = compute_cost(Z3, Y)\n",
    "    print(\"cost = \" + str(cost))"
   ]
  },
  {
   "cell_type": "code",
   "execution_count": 87,
   "metadata": {
    "id": "PfxAf96D0Z1o"
   },
   "outputs": [],
   "source": [
    "def model(X_train, Y_train,num_epochs,learning_rate):\n",
    "  \n",
    "  ops.reset_default_graph()                         # to be able to rerun the model without overwriting tf variables\n",
    "  #tf.set_random_seed(1)                             # to keep consistent results\n",
    "  #seed = 3                                          # to keep consistent results\n",
    "  (n_x, m) = X_train.shape                          # (n_x: input size, m : number of examples in the train set)\n",
    "  n_y = Y_train.shape[0]                            # n_y : output size\n",
    "  costs = []\n",
    "\n",
    "  X, Y = create_placeholders(n_x, n_y)\n",
    "  parameters = initialize_parameters()\n",
    "  Z3 = forward_propagation(X, parameters)\n",
    "  cost = compute_cost(Z3, Y)\n",
    "  optimizer = tf.compat.v1.train.GradientDescentOptimizer(learning_rate = learning_rate).minimize(cost)\n",
    "  init = tf.compat.v1.global_variables_initializer()\n",
    "  with tf.compat.v1.Session() as sess:\n",
    "    sess.run(init)\n",
    "    for epoch in range(num_epochs):\n",
    "      _ , gradient_cost = sess.run([optimizer, cost], feed_dict={X: X_train, Y: Y_train})\n",
    "      costs.append(gradient_cost)\n",
    "\n",
    "    plt.plot(np.squeeze(costs))\n",
    "    plt.ylabel('cost')\n",
    "    plt.xlabel('iterations (per fives)')\n",
    "    plt.title(\"Learning rate =\" + str(learning_rate))\n",
    "    plt.show()\n",
    "\n",
    "    parameters = sess.run(parameters)\n",
    "    print (\"Parameters have been trained!\")\n",
    "\n",
    "    correct_prediction = tf.equal(tf.argmax(Z3), tf.argmax(Y))\n",
    "\n",
    "    accuracy = tf.reduce_mean(tf.cast(correct_prediction, \"float\"))\n",
    "    \n",
    "    print (\"Train Accuracy:\", accuracy.eval({X: X_train, Y: Y_train}))\n",
    "    #print (\"Test Accuracy:\", accuracy.eval({X: X_test, Y: Y_test}))\n",
    "        \n",
    "  return parameters\n",
    "  "
   ]
  },
  {
   "cell_type": "code",
   "execution_count": 88,
   "metadata": {
    "colab": {
     "base_uri": "https://localhost:8080/",
     "height": 330
    },
    "id": "xF4OontZ9nN1",
    "outputId": "8441f1c6-2a5f-4af3-9d8a-1d7f773ab831"
   },
   "outputs": [
    {
     "data": {
      "image/png": "[encoded data removed]",
      "text/plain": [
       "<Figure size 432x288 with 1 Axes>"
      ]
     },
     "metadata": {
      "needs_background": "light",
      "tags": []
     },
     "output_type": "display_data"
    },
    {
     "name": "stdout",
     "output_type": "stream",
     "text": [
      "Parameters have been trained!\n",
      "Train Accuracy: 0.9807692\n"
     ]
    }
   ],
   "source": [
    "trained_para = model(X,y,num_epochs=4000,learning_rate=0.001)"
   ]
  },
  {
   "cell_type": "markdown",
   "metadata": {
    "id": "8V7TksIoKV_H"
   },
   "source": [
    "Place an image and check the prediction"
   ]
  },
  {
   "cell_type": "code",
   "execution_count": 130,
   "metadata": {
    "id": "WSkeLSuJNHVW"
   },
   "outputs": [],
   "source": [
    "def predict(X, parameters):\n",
    "  W1 = parameters['W1']\n",
    "  b1 = parameters['b1']\n",
    "  W2 = parameters['W2']\n",
    "  b2 = parameters['b2']\n",
    "  W3 = parameters['W3']\n",
    "  b3 = parameters['b3']\n",
    "\n",
    "  Z1 = tf.add(tf.matmul(W1,X),b1)                                              # Z1 = np.dot(W1, X) + b1\n",
    "  A1 = tf.nn.relu(Z1)                                              # A1 = relu(Z1)\n",
    "  Z2 = tf.add(tf.matmul(W2,A1),b2)                                              # Z2 = np.dot(W2, A1) + b2\n",
    "  A2 = tf.nn.relu(Z2)                                              # A2 = relu(Z2)\n",
    "  Z3 = tf.add(tf.matmul(W3,A2),b3)\n",
    "\n",
    "  sigmoid = tf.sigmoid(Z3)\n",
    "  with tf.compat.v1.Session() as sess:\n",
    "        result = sess.run(sigmoid)\n",
    "\n",
    "  return result"
   ]
  },
  {
   "cell_type": "code",
   "execution_count": 134,
   "metadata": {
    "colab": {
     "base_uri": "https://localhost:8080/",
     "height": 320
    },
    "id": "vsk_OtbxLaS0",
    "outputId": "cc0ea2bb-a2d5-419c-bd4b-c4cea6e3714f"
   },
   "outputs": [
    {
     "data": {
      "image/png": "[encoded data removed]",
      "text/plain": [
       "<Figure size 432x288 with 1 Axes>"
      ]
     },
     "metadata": {
      "needs_background": "light",
      "tags": []
     },
     "output_type": "display_data"
    },
    {
     "data": {
      "text/plain": [
       "array([[0.64519686],\n",
       "       [0.37880632],\n",
       "       [0.6668246 ]], dtype=float32)"
      ]
     },
     "execution_count": 134,
     "metadata": {
      "tags": []
     },
     "output_type": "execute_result"
    }
   ],
   "source": [
    "image_name = 'left.png'\n",
    "test_image_path = 'sample_data/Road_Signs_Data/Test_Data/'+image_name\n",
    "image = Image.open(test_image_path).convert('L')\n",
    "image = image.resize((img_size,img_size))\n",
    "array_image = np.array(image)\n",
    "\n",
    "plt.imshow(array_image)\n",
    "plt.show()\n",
    "\n",
    "array_image = array_image.reshape(img_size*img_size,1)\n",
    "array_image = array_image/255\n",
    "predict(array_image,trained_para)"
   ]
  },
  {
   "cell_type": "code",
   "execution_count": null,
   "metadata": {
    "id": "UBHZGpUhPbSw"
   },
   "outputs": [],
   "source": [
    "categories = ['LEFT','RIGHT','STOP']\n",
    "#RIGT:0,LEFT:1,STOP:2"
   ]
  }
 ],
 "metadata": {
  "colab": {
   "name": "Untitled0.ipynb",
   "provenance": []
  },
  "kernelspec": {
   "display_name": "Python 3",
   "language": "python",
   "name": "python3"
  },
  "language_info": {
   "codemirror_mode": {
    "name": "ipython",
    "version": 3
   },
   "file_extension": ".py",
   "mimetype": "text/x-python",
   "name": "python",
   "nbconvert_exporter": "python",
   "pygments_lexer": "ipython3",
   "version": "3.7.3"
  }
 },
 "nbformat": 4,
 "nbformat_minor": 1
}
